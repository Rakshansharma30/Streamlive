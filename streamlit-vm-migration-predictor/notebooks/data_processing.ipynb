{
 "cells": [
  {
   "cell_type": "markdown",
   "metadata": {},
   "source": [
    "# VM Migration Data Processing\n",
    "\n",
    "This notebook demonstrates data processing and model training for VM migration prediction."
   ]
  },
  {
   "cell_type": "code",
   "execution_count": null,
   "metadata": {},
   "source": [
    "import pandas as pd\n",
    "import numpy as np\n",
    "import matplotlib.pyplot as plt\n",
    "import seaborn as sns\n",
    "from sklearn.ensemble import RandomForestRegressor\n",
    "from sklearn.model_selection import train_test_split\n",
    "from sklearn.metrics import mean_squared_error, r2_score\n",
    "\n",
    "# Set style\n",
    "plt.style.use('seaborn-v0_8')\n",
    "sns.set_palette('husl')"
   ]
  },
  {
   "cell_type": "code",
   "execution_count": null,
   "metadata": {},
   "source": [
    "# Generate sample data\n",
    "np.random.seed(42)\n",
    "n_samples = 1000\n",
    "\n",
    "data = {\n",
    "    'cpu_load': np.random.uniform(10, 100, n_samples),\n",
    "    'memory_usage': np.random.uniform(20, 95, n_samples),\n",
    "    'disk_io': np.random.uniform(5, 100, n_samples),\n",
    "    'network_bandwidth': np.random.uniform(50, 1000, n_samples)\n",
    "}\n",
    "\n",
    "df = pd.DataFrame(data)\n",
    "df.head()"
   ]
  },
  {
   "cell_type": "code",
   "execution_count": null,
   "metadata": {},
   "source": [
    "# Create target variable (downtime)\n",
    "base_downtime = 50\n",
    "cpu_impact = df['cpu_load'] * 0.8\n",
    "memory_impact = df['memory_usage'] * 0.6\n",
    "disk_impact = df['disk_io'] * 0.4\n",
    "network_impact = (1000 - df['network_bandwidth']) * 0.1\n",
    "noise = np.random.normal(0, 10, n_samples)\n",
    "\n",
    "df['downtime'] = base_downtime + cpu_impact + memory_impact + disk_impact + network_impact + noise\n",
    "df['downtime'] = np.maximum(df['downtime'], 10)  # Minimum 10ms\n",
    "\n",
    "print(f'Dataset shape: {df.shape}')\n",
    "df.describe()"
   ]
  },
  {
   "cell_type": "code",
   "execution_count": null,
   "metadata": {},
   "source": [
    "# Visualize data\n",
    "fig, axes = plt.subplots(2, 3, figsize=(15, 10))\n",
    "\n",
    "# Distribution plots\n",
    "for i, col in enumerate(df.columns):\n",
    "    row, col_idx = divmod(i, 3)\n",
    "    if row < 2:\n",
    "        axes[row, col_idx].hist(df[col], bins=30, alpha=0.7)\n",
    "        axes[row, col_idx].set_title(f'{col} Distribution')\n",
    "        axes[row, col_idx].set_xlabel(col)\n",
    "        axes[row, col_idx].set_ylabel('Frequency')\n",
    "\n",
    "# Remove empty subplot\n",
    "fig.delaxes(axes[1, 2])\n",
    "plt.tight_layout()\n",
    "plt.show()"
   ]
  }
 ],
 "metadata": {
  "kernelspec": {
   "display_name": "Python 3",
   "language": "python",
   "name": "python3"
  },
  "language_info": {
   "codemirror_mode": {
    "name": "ipython",
    "version": 3
   },
   "file_extension": ".py",
   "name": "python",
   "nbconvert_exporter": "python",
   "pygments_lexer": "ipython3",
   "version": "3.9.0"
  }
 },
 "nbformat": 4,
 "nbformat_minor": 4
}